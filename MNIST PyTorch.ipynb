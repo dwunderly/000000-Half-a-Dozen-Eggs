{
 "cells": [
  {
   "cell_type": "code",
   "execution_count": 1,
   "metadata": {},
   "outputs": [
    {
     "name": "stdout",
     "output_type": "stream",
     "text": [
      "Epoch [1/5], Step [100/600], Loss: 0.3456\n",
      "Epoch [1/5], Step [200/600], Loss: 0.3313\n",
      "Epoch [1/5], Step [300/600], Loss: 0.2336\n",
      "Epoch [1/5], Step [400/600], Loss: 0.1440\n",
      "Epoch [1/5], Step [500/600], Loss: 0.3188\n",
      "Epoch [1/5], Step [600/600], Loss: 0.0820\n",
      "Epoch [2/5], Step [100/600], Loss: 0.0959\n",
      "Epoch [2/5], Step [200/600], Loss: 0.1439\n",
      "Epoch [2/5], Step [300/600], Loss: 0.0734\n",
      "Epoch [2/5], Step [400/600], Loss: 0.0505\n",
      "Epoch [2/5], Step [500/600], Loss: 0.1090\n",
      "Epoch [2/5], Step [600/600], Loss: 0.0722\n",
      "Epoch [3/5], Step [100/600], Loss: 0.0555\n",
      "Epoch [3/5], Step [200/600], Loss: 0.0686\n",
      "Epoch [3/5], Step [300/600], Loss: 0.0487\n",
      "Epoch [3/5], Step [400/600], Loss: 0.0528\n",
      "Epoch [3/5], Step [500/600], Loss: 0.1659\n",
      "Epoch [3/5], Step [600/600], Loss: 0.0856\n",
      "Epoch [4/5], Step [100/600], Loss: 0.0601\n",
      "Epoch [4/5], Step [200/600], Loss: 0.0796\n",
      "Epoch [4/5], Step [300/600], Loss: 0.0646\n",
      "Epoch [4/5], Step [400/600], Loss: 0.0637\n",
      "Epoch [4/5], Step [500/600], Loss: 0.0588\n",
      "Epoch [4/5], Step [600/600], Loss: 0.1053\n",
      "Epoch [5/5], Step [100/600], Loss: 0.0271\n",
      "Epoch [5/5], Step [200/600], Loss: 0.0305\n",
      "Epoch [5/5], Step [300/600], Loss: 0.0229\n",
      "Epoch [5/5], Step [400/600], Loss: 0.0587\n",
      "Epoch [5/5], Step [500/600], Loss: 0.0081\n",
      "Epoch [5/5], Step [600/600], Loss: 0.0406\n",
      "Accuracy of the network on the 10000 test images: 97.91 %\n"
     ]
    }
   ],
   "source": [
    "import torch\n",
    "import torch.nn as nn\n",
    "import torchvision\n",
    "import torchvision.transforms as transforms\n",
    "\n",
    "\n",
    "# Device configuration\n",
    "device = torch.device('cuda' if torch.cuda.is_available() else 'cpu')\n",
    "\n",
    "# Hyper-parameters \n",
    "input_size = 784\n",
    "hidden_size = 500\n",
    "num_classes = 10\n",
    "num_epochs = 5\n",
    "batch_size = 100\n",
    "learning_rate = 0.001\n",
    "\n",
    "# MNIST dataset \n",
    "train_dataset = torchvision.datasets.MNIST(root='../../data', \n",
    "                                           train=True, \n",
    "                                           transform=transforms.ToTensor(),  \n",
    "                                           download=True)\n",
    "\n",
    "test_dataset = torchvision.datasets.MNIST(root='../../data', \n",
    "                                          train=False, \n",
    "                                          transform=transforms.ToTensor())\n",
    "\n",
    "# Data loader\n",
    "train_loader = torch.utils.data.DataLoader(dataset=train_dataset, \n",
    "                                           batch_size=batch_size, \n",
    "                                           shuffle=True)\n",
    "\n",
    "test_loader = torch.utils.data.DataLoader(dataset=test_dataset, \n",
    "                                          batch_size=batch_size, \n",
    "                                          shuffle=False)\n",
    "\n",
    "# Fully connected neural network with one hidden layer\n",
    "class NeuralNet(nn.Module):\n",
    "    def __init__(self, input_size, hidden_size, num_classes):\n",
    "        super(NeuralNet, self).__init__()\n",
    "        self.fc1 = nn.Linear(input_size, hidden_size) \n",
    "        self.relu = nn.ReLU()\n",
    "        self.fc2 = nn.Linear(hidden_size, num_classes)  \n",
    "        self.softmax = nn.Softmax()\n",
    "    \n",
    "    def forward(self, x):\n",
    "        out = self.fc1(x)\n",
    "        out = self.relu(out)\n",
    "        out = self.fc2(out)\n",
    "        #out = self.softmax(out)\n",
    "        return out\n",
    "\n",
    "model = NeuralNet(input_size, hidden_size, num_classes).to(device)\n",
    "\n",
    "# Loss and optimizer\n",
    "criterion = nn.CrossEntropyLoss()\n",
    "optimizer = torch.optim.Adam(model.parameters(), lr=learning_rate)  \n",
    "\n",
    "# Train the model\n",
    "total_step = len(train_loader)\n",
    "for epoch in range(num_epochs):\n",
    "    for i, (images, labels) in enumerate(train_loader):  \n",
    "        # Move tensors to the configured device\n",
    "        images = images.reshape(-1, 28*28).to(device)\n",
    "        labels = labels.to(device)\n",
    "        \n",
    "        # Forward pass\n",
    "        outputs = model(images)\n",
    "        loss = criterion(outputs, labels)\n",
    "        \n",
    "        # Backward and optimize\n",
    "        optimizer.zero_grad()\n",
    "        loss.backward()\n",
    "        optimizer.step()\n",
    "        \n",
    "        if (i+1) % 100 == 0:\n",
    "            print ('Epoch [{}/{}], Step [{}/{}], Loss: {:.4f}' \n",
    "                   .format(epoch+1, num_epochs, i+1, total_step, loss.item()))\n",
    "\n",
    "# Test the model\n",
    "# In test phase, we don't need to compute gradients (for memory efficiency)\n",
    "with torch.no_grad():\n",
    "    correct = 0\n",
    "    total = 0\n",
    "    for images, labels in test_loader:\n",
    "        images = images.reshape(-1, 28*28).to(device)\n",
    "        labels = labels.to(device)\n",
    "        outputs = model(images)\n",
    "        _, predicted = torch.max(outputs.data, 1)\n",
    "        total += labels.size(0)\n",
    "        correct += (predicted == labels).sum().item()\n",
    "\n",
    "    print('Accuracy of the network on the 10000 test images: {} %'.format(100 * correct / total))\n",
    "\n",
    "# Save the model checkpoint\n",
    "torch.save(model.state_dict(), 'model.ckpt')"
   ]
  },
  {
   "cell_type": "code",
   "execution_count": 2,
   "metadata": {},
   "outputs": [],
   "source": [
    "# This code loads model from the saved checkpoint file\n",
    "modelB = NeuralNet(input_size, hidden_size, num_classes)\n",
    "modelB.load_state_dict(torch.load('model.ckpt'),strict=False)"
   ]
  },
  {
   "cell_type": "code",
   "execution_count": 3,
   "metadata": {},
   "outputs": [],
   "source": [
    "# This code grabs a random image and its associated label in the first batch (of 100 image-label pairs)\n",
    "images, labels = next(iter(test_loader))\n",
    "images = images.reshape(-1, 28,28)\n",
    "example = images[30]\n",
    "correct = labels[30]"
   ]
  },
  {
   "cell_type": "code",
   "execution_count": 4,
   "metadata": {},
   "outputs": [
    {
     "data": {
      "text/plain": [
       "<Figure size 640x480 with 1 Axes>"
      ]
     },
     "metadata": {},
     "output_type": "display_data"
    }
   ],
   "source": [
    "# Visualization of the selected image\n",
    "import matplotlib.pyplot as plt\n",
    "plt.imshow(example,cmap=\"gray\")\n",
    "plt.show()"
   ]
  },
  {
   "cell_type": "code",
   "execution_count": 5,
   "metadata": {},
   "outputs": [
    {
     "name": "stdout",
     "output_type": "stream",
     "text": [
      "torch.Size([1, 784])\n"
     ]
    }
   ],
   "source": [
    "# Flatten image into a vector that can be fed through the neural net\n",
    "image_tensor = example.reshape(-1,28*28)\n",
    "print(image_tensor.shape)"
   ]
  },
  {
   "cell_type": "code",
   "execution_count": 6,
   "metadata": {},
   "outputs": [
    {
     "name": "stdout",
     "output_type": "stream",
     "text": [
      "tensor([[-10.4232,  -6.6709,  -8.5338,  12.3886, -13.2222,   1.0764,\n",
      "         -17.6158,  -7.0606,  -3.9162,  -1.2951]])\n",
      "tensor(3)\n",
      "tensor(3)\n"
     ]
    }
   ],
   "source": [
    "# Feedforward process of the one example\n",
    "with torch.no_grad():\n",
    "    outputs = modelB(image_tensor)\n",
    "    print(outputs)\n",
    "    _, predicted = torch.max(outputs.data,1)\n",
    "    print(predicted[0])\n",
    "    print(correct)"
   ]
  },
  {
   "cell_type": "code",
   "execution_count": null,
   "metadata": {},
   "outputs": [],
   "source": []
  },
  {
   "cell_type": "code",
   "execution_count": null,
   "metadata": {},
   "outputs": [],
   "source": []
  }
 ],
 "metadata": {
  "kernelspec": {
   "display_name": "Python 3",
   "language": "python",
   "name": "python3"
  },
  "language_info": {
   "codemirror_mode": {
    "name": "ipython",
    "version": 3
   },
   "file_extension": ".py",
   "mimetype": "text/x-python",
   "name": "python",
   "nbconvert_exporter": "python",
   "pygments_lexer": "ipython3",
   "version": "3.6.8"
  }
 },
 "nbformat": 4,
 "nbformat_minor": 2
}
